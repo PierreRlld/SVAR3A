{
 "cells": [
  {
   "cell_type": "markdown",
   "metadata": {},
   "source": [
    "# Code examples"
   ]
  },
  {
   "cell_type": "code",
   "execution_count": 1,
   "metadata": {},
   "outputs": [
    {
     "name": "stdout",
     "output_type": "stream",
     "text": [
      ">> CPI decomposition for EU27 processing\n"
     ]
    },
    {
     "name": "stderr",
     "output_type": "stream",
     "text": [
      "100%|#################################################################################################################| 94/94 [00:03<00:00, 29.72it/s]\n"
     ]
    }
   ],
   "source": [
    "try:\n",
    "    from main_estimate import *\n",
    "except:\n",
    "    print('Error check packages dependencies / Kernel')"
   ]
  },
  {
   "cell_type": "markdown",
   "metadata": {
    "jp-MarkdownHeadingCollapsed": true
   },
   "source": [
    "## (1) CPIframe"
   ]
  },
  {
   "cell_type": "markdown",
   "metadata": {},
   "source": [
    "```python\n",
    "# === Data (index = HICP & Qt without log transf.) ===\n",
    "df_w = pd.read_excel(\"data/data_flat.xlsx\",sheet_name=\"weights\")\n",
    "df_q_index = pd.read_excel(\"data/data_flat.xlsx\",sheet_name=\"QT_index\")\n",
    "df_p_index = pd.read_excel(\"data/data_flat.xlsx\",sheet_name=\"P_index\")\n",
    "\n",
    "class CPIframe:\n",
    "    def __init__(self, df_q_index, df_p_index, df_w, country):\n",
    "        \"\"\"\n",
    "        Args:\n",
    "            df_q_index (DataFrame): The Quantity data (index).\n",
    "            df_p_index (DataFrame): The Price data (index).\n",
    "            df_w (DataFrame): The respective Weights data.\n",
    "            country (str): Location available (EU27,France,Germany,Spain).\n",
    "        \"\"\"\n",
    "````"
   ]
  },
  {
   "cell_type": "code",
   "execution_count": 2,
   "metadata": {},
   "outputs": [
    {
     "name": "stdout",
     "output_type": "stream",
     "text": [
      "['country', 'dates', 'end_flag', 'flag', 'flag_sector', 'flag_summary', 'framing', 'inflation', 'price', 'price_index', 'qt', 'qt_index', 'sector', 'sector_inf', 'sectors', 'start_flag', 'weights']\n"
     ]
    }
   ],
   "source": [
    "eu = CPIframe(df_q_index=df_q_index, df_p_index=df_p_index, df_w=df_w, country=\"EU27\")\n",
    "print([atr for atr in dir(eu) if \"__\" not in atr])"
   ]
  },
  {
   "cell_type": "markdown",
   "metadata": {},
   "source": [
    "- *flag_sectors*, *framing* and *sector* are methods for the class *CPIframe*\n",
    "- *price_index* and *price* (data of *price_index* log-transformed) are subset dataframes of initial *df_p_index* (Price data) restricted to *country*\n",
    "- *qt_index* and *qt* (data of *qt_index* log-transformed) are subset dataframes of initial *df_q_index* (Quantity data = demand proxy) restricted to *country*"
   ]
  },
  {
   "cell_type": "code",
   "execution_count": 3,
   "metadata": {
    "scrolled": true
   },
   "outputs": [
    {
     "data": {
      "text/plain": [
       "{0: 'Bread and cereals',\n",
       " 1: 'Meat',\n",
       " 2: 'Fish and seafood',\n",
       " 3: 'Milk, cheese and eggs',\n",
       " 4: 'Oils and fats',\n",
       " 5: 'Fruit',\n",
       " 6: 'Vegetables',\n",
       " 7: 'Sugar, jam, honey, chocolate and confectionery',\n",
       " 8: 'Food products n.e.c.',\n",
       " 9: 'Coffee, tea and cocoa',\n",
       " 10: 'Mineral waters, soft drinks, fruit and vegetable juices',\n",
       " 11: 'Spirits',\n",
       " 12: 'Wine',\n",
       " 13: 'Beer',\n",
       " 14: 'Tobacco',\n",
       " 15: 'Clothing materials',\n",
       " 16: 'Garments',\n",
       " 17: 'Other articles of clothing and clothing accessories',\n",
       " 18: 'Cleaning, repair and hire of clothing',\n",
       " 19: 'Shoes and other footwear',\n",
       " 20: 'Repair and hire of footwear',\n",
       " 21: 'Actual rentals for housing',\n",
       " 22: 'Maintenance and repair of the dwelling',\n",
       " 23: 'Water supply and miscellaneous services relating to the dwelling',\n",
       " 24: 'Electricity, gas and other fuels',\n",
       " 25: 'Furniture and furnishings',\n",
       " 26: 'Carpets and other floor coverings',\n",
       " 27: 'Repair of furniture, furnishings and floor coverings',\n",
       " 28: 'Household textiles',\n",
       " 29: 'Major household appliances whether electric or not',\n",
       " 30: 'Small electric household appliances',\n",
       " 31: 'Repair of household appliances',\n",
       " 32: 'Glassware, tableware and household utensils',\n",
       " 33: 'Major tools and equipment',\n",
       " 34: 'Small tools and miscellaneous accessories',\n",
       " 35: 'Non-durable household goods',\n",
       " 36: 'Domestic services and household services',\n",
       " 37: 'Pharmaceutical products',\n",
       " 38: 'Other medical products',\n",
       " 39: 'Therapeutic appliances and equipment',\n",
       " 40: 'Medical services',\n",
       " 41: 'Dental services',\n",
       " 42: 'Paramedical services',\n",
       " 43: 'Hospital services',\n",
       " 44: 'Motor cars',\n",
       " 45: 'Motor cycles',\n",
       " 46: 'Bicycles',\n",
       " 47: 'Animal drawn vehicles',\n",
       " 48: 'Spare parts and accessories for personal transport equipment',\n",
       " 49: 'Fuels and lubricants for personal transport equipment',\n",
       " 50: 'Maintenance and repair of personal transport equipment',\n",
       " 51: 'Other services in respect of personal transport equipment',\n",
       " 52: 'Passenger transport by railway',\n",
       " 53: 'Passenger transport by road',\n",
       " 54: 'Passenger transport by air',\n",
       " 55: 'Passenger transport by sea and inland waterway',\n",
       " 56: 'Combined passenger transport',\n",
       " 57: 'Other purchased transport services',\n",
       " 58: 'Postal services',\n",
       " 59: 'Telephone and telefax equipment',\n",
       " 60: 'Telephone and telefax services',\n",
       " 61: 'Equipment for the reception, recording and reproduction of sound and picture',\n",
       " 62: 'Photographic and cinematographic equipment and optical instruments',\n",
       " 63: 'Information processing equipment',\n",
       " 64: 'Recording media',\n",
       " 65: 'Repair of audio-visual, photographic and information processing equipment',\n",
       " 66: 'Major durables for outdoor recreation',\n",
       " 67: 'Musical instruments and major durables for indoor recreation',\n",
       " 68: 'Maintenance and repair of other major durables for recreation and culture',\n",
       " 69: 'Games, toys and hobbies',\n",
       " 70: 'Equipment for sport, camping and open-air recreation',\n",
       " 71: 'Gardens, plants and flowers',\n",
       " 72: 'Pets and related products',\n",
       " 73: 'Veterinary and other services for pets',\n",
       " 74: 'Recreational and sporting services',\n",
       " 75: 'Cultural services',\n",
       " 76: 'Books',\n",
       " 77: 'Newspapers and periodicals',\n",
       " 78: 'Miscellaneous printed matter',\n",
       " 79: 'Stationery and drawing materials',\n",
       " 80: 'Pre-primary and primary education',\n",
       " 81: 'Secondary education',\n",
       " 82: 'Post-secondary non-tertiary education',\n",
       " 83: 'Tertiary education',\n",
       " 84: 'Education not definable by level',\n",
       " 85: 'Restaurants, cafés and the like',\n",
       " 86: 'Canteens',\n",
       " 87: 'Accommodation services',\n",
       " 88: 'Hairdressing salons and personal grooming establishments',\n",
       " 89: 'Electrical appliances for personal care',\n",
       " 90: 'Other appliances, articles and products for personal care',\n",
       " 91: 'Jewellery, clocks and watches',\n",
       " 92: 'Other personal effects',\n",
       " 93: 'Social protection'}"
      ]
     },
     "execution_count": 3,
     "metadata": {},
     "output_type": "execute_result"
    }
   ],
   "source": [
    "eu.sectors   #COICOP 4-digit categories\n",
    "#eu.inflation #MoM inflation rate dataframe\n",
    "#eu.weights    #DataFrame of Annual sector weights in the overall HICP \n",
    "#eu.price\n",
    "#eu.price_index\n",
    "#eu.qt\n",
    "#eu.qt_index"
   ]
  },
  {
   "cell_type": "code",
   "execution_count": 4,
   "metadata": {
    "scrolled": true
   },
   "outputs": [
    {
     "ename": "AttributeError",
     "evalue": "'CPIframe' object has no attribute 'flag_sectors'",
     "output_type": "error",
     "traceback": [
      "\u001b[0;31m---------------------------------------------------------------------------\u001b[0m",
      "\u001b[0;31mAttributeError\u001b[0m                            Traceback (most recent call last)",
      "Input \u001b[0;32mIn [4]\u001b[0m, in \u001b[0;36m<cell line: 1>\u001b[0;34m()\u001b[0m\n\u001b[0;32m----> 1\u001b[0m \u001b[43meu\u001b[49m\u001b[38;5;241;43m.\u001b[39;49m\u001b[43mflag_sectors\u001b[49m()\n",
      "\u001b[0;31mAttributeError\u001b[0m: 'CPIframe' object has no attribute 'flag_sectors'"
     ]
    }
   ],
   "source": [
    "eu.flag_sectors()"
   ]
  },
  {
   "cell_type": "markdown",
   "metadata": {},
   "source": [
    "## (2) sector_estimation"
   ]
  },
  {
   "cell_type": "markdown",
   "metadata": {},
   "source": [
    "Builds on a `CPIframe`object."
   ]
  },
  {
   "cell_type": "markdown",
   "metadata": {},
   "source": [
    "```python\n",
    "class sector_estimation:\n",
    "    def __init__(self,\n",
    "                 meta:CPIframe,\n",
    "                 col:int,\n",
    "                 order:Union[int, str]=\"auto\",maxlag=24,trend=\"n\",\n",
    "                 shapiro:bool=True,\n",
    "                 shapiro_robust:bool=False,\n",
    "                 sheremirov:bool=True,\n",
    "                 sheremirov_window:list=[1,11]):\n",
    "        \"\"\"\n",
    "        Args:\n",
    "            - `meta`: `CPIframe` object\n",
    "            - `col`: sector column number in [0,93]\n",
    "            - If too litte data for sector 'col' then raises ValueError\n",
    "            - VAR model is built with first diff then demeand log-transformed data\n",
    "            - `classify_inflation`: if False only returns Shapiro and Sheremirov classification in binary form \n",
    "                Otherwise returns [classified weighted inflation rate] : 1(dem)*weight*inf_rate & 1(sup)*w*inf_rate \n",
    "                \n",
    "            `VAR parametrization`\n",
    "            order: if \"auto\" VAR order is automatically selected. Else requires an integer\n",
    "            maxlag: higher bound of order selection\n",
    "            trend: should remain \"n\" because data have been demeaned and are supposed to be stationary (no trend)\n",
    "            \n",
    "            `Labeling methods`\n",
    "            shapiro: if True computes baseline Shapiro(2022) labeling method with reduced-form estimated VAR\n",
    "            shapiro_robustness: if True also computes alternative labeling methodologies\n",
    "            sheremirov: if True computes baseline Sheremirov(2022) labeling method\n",
    "            sheremirov_window: [Transitory,Persistent] parametrization of step classification algo step5\n",
    "        \"\"\""
   ]
  },
  {
   "cell_type": "markdown",
   "metadata": {},
   "source": [
    "**ex: For a given sector in column col=64**"
   ]
  },
  {
   "cell_type": "markdown",
   "metadata": {},
   "source": [
    "#### 1/ Automatic lag order selection"
   ]
  },
  {
   "cell_type": "code",
   "execution_count": null,
   "metadata": {},
   "outputs": [],
   "source": [
    "# When order is automatically selected results accessible via aic and bic are accessed via (...).aic or (...).bic\n",
    "test_sect_estim1 = sector_estimation(meta=eu, col=64, shapiro_robust=True)\n",
    "test_sect_estim12 = sector_estimation(meta=eu, col=64, shapiro_robust=True, classify_inflation=False)\n",
    "test_sect_estim1.sec_name"
   ]
  },
  {
   "cell_type": "code",
   "execution_count": null,
   "metadata": {
    "scrolled": true
   },
   "outputs": [],
   "source": [
    "#test_sect_estim1.aic.summary() #Estimated model with AIC\n",
    "#test_sect_estim1.aic.shapiro #Shapiro classification (without alternative methods)\n",
    "print('> Shapiro classification')\n",
    "print('Baseline:dem-sup \\nSmoothed classification:dem-sup_j1 to dem-sup_j3 \\nParametric classification:dem-sup_param')\n",
    "display(test_sect_estim1.aic.shapiro_robust)\n",
    "print('> Sheremirov classification')\n",
    "display(test_sect_estim1.sheremirov)"
   ]
  },
  {
   "cell_type": "code",
   "execution_count": null,
   "metadata": {
    "scrolled": true
   },
   "outputs": [],
   "source": [
    "print('> Shapiro classification classify_inflation=False')\n",
    "print('Baseline:dem-sup \\nSmoothed classification:dem-sup_j1 to dem-sup_j3 \\nParametric classification:dem-sup_param')\n",
    "display(test_sect_estim12.aic.shapiro_robust)\n",
    "print('> Sheremirov classification classify_inflation=False')\n",
    "display(test_sect_estim12.sheremirov)"
   ]
  },
  {
   "cell_type": "code",
   "execution_count": null,
   "metadata": {
    "scrolled": true
   },
   "outputs": [],
   "source": [
    "test_sect_estim1.inflation\n",
    "# inflation is MoM%HICP"
   ]
  },
  {
   "cell_type": "markdown",
   "metadata": {},
   "source": [
    "#### 2/ Fixed order"
   ]
  },
  {
   "cell_type": "code",
   "execution_count": null,
   "metadata": {},
   "outputs": [],
   "source": [
    "# When order is hand-fixed results are accessible via (...).estimate\n",
    "test_sect_estim2 = sector_estimation(meta=eu, col=64, order=12, shapiro_robust=True)\n",
    "test_sect_estim22 = sector_estimation(meta=eu, col=64, order=12, shapiro_robust=True, classify_inflation=False)"
   ]
  },
  {
   "cell_type": "code",
   "execution_count": null,
   "metadata": {
    "scrolled": true
   },
   "outputs": [],
   "source": [
    "#test_sect_estim2.estimate.summary() #Estimated model with selected order\n",
    "#test_sect_estim2.estimate.shapiro #(without alternative methods)\n",
    "print('> Shapiro classification')\n",
    "display(test_sect_estim2.estimate.shapiro_robust)\n",
    "print('> Sheremirov classification')\n",
    "display(test_sect_estim2.sheremirov)"
   ]
  },
  {
   "cell_type": "markdown",
   "metadata": {},
   "source": [
    "## (3) CPIlabel"
   ]
  },
  {
   "cell_type": "markdown",
   "metadata": {},
   "source": [
    "Builds on a `CPIframe`object.\n",
    "\n",
    "Iterates over all sectors."
   ]
  },
  {
   "cell_type": "markdown",
   "metadata": {},
   "source": [
    "```python\n",
    "class CPIlabel:\n",
    "    def __init__(self,meta:CPIframe,\n",
    "                 order:Union[int, str]=\"auto\",maxlag=24,\n",
    "                 shapiro_robust:bool=False,\n",
    "                 sheremirov_window:list[int,int]=[1,11]):\n",
    "        \"\"\"\n",
    "        Args:\n",
    "            - `meta`: `CPIframe` object\n",
    "            - `order`: if \"auto\" VAR order is automatically selected. Else requires an integer\n",
    "            - `maxlag`: higher bound of order selection (if order=\"auto\")\n",
    "            - `shapiro_robustness`: if True also computes alternative labeling methodologies\n",
    "            - `sheremirov_window: [Transitory,Persistent] parametrization of step classification algo step5 \n",
    "            -  NB1: VAR models are built with first diff then demeand log-transformed data\n",
    "        \"\"\"\n",
    "````"
   ]
  },
  {
   "cell_type": "code",
   "execution_count": null,
   "metadata": {},
   "outputs": [],
   "source": []
  }
 ],
 "metadata": {
  "kernelspec": {
   "display_name": "mlpyth",
   "language": "python",
   "name": "mlpyth"
  },
  "language_info": {
   "codemirror_mode": {
    "name": "ipython",
    "version": 3
   },
   "file_extension": ".py",
   "mimetype": "text/x-python",
   "name": "python",
   "nbconvert_exporter": "python",
   "pygments_lexer": "ipython3",
   "version": "3.10.12"
  }
 },
 "nbformat": 4,
 "nbformat_minor": 4
}
