{
 "cells": [
  {
   "cell_type": "code",
   "execution_count": 4,
   "metadata": {},
   "outputs": [],
   "source": [
    "try:\n",
    "    from main_estimate import *\n",
    "except:\n",
    "    print('Error check packages dependencies / Kernel')\n",
    "\n",
    "plt.style.use('classic')\n",
    "import matplotlib.colors as mcolors"
   ]
  },
  {
   "cell_type": "code",
   "execution_count": 5,
   "metadata": {},
   "outputs": [],
   "source": [
    "meta_fr = CPIframe(df_q_index=df_q_index, df_p_index=df_p_index, df_w=df_w, country=\"France\")\n",
    "meta_eu = CPIframe(df_q_index=df_q_index, df_p_index=df_p_index, df_w=df_w, country=\"EU27\")\n",
    "meta_sp = CPIframe(df_q_index=df_q_index, df_p_index=df_p_index, df_w=df_w, country=\"Spain\")\n",
    "meta_ger = CPIframe(df_q_index=df_q_index, df_p_index=df_p_index, df_w=df_w, country=\"Germany\")"
   ]
  },
  {
   "cell_type": "code",
   "execution_count": 6,
   "metadata": {},
   "outputs": [
    {
     "name": "stdout",
     "output_type": "stream",
     "text": [
      ">> CPI decomposition for France processing\n"
     ]
    },
    {
     "name": "stderr",
     "output_type": "stream",
     "text": [
      "100%|#################################################################################################################| 94/94 [00:04<00:00, 22.19it/s]\n"
     ]
    },
    {
     "name": "stdout",
     "output_type": "stream",
     "text": [
      ">> CPI decomposition for EU27 processing\n"
     ]
    },
    {
     "name": "stderr",
     "output_type": "stream",
     "text": [
      "100%|#################################################################################################################| 94/94 [00:03<00:00, 30.13it/s]\n"
     ]
    },
    {
     "name": "stdout",
     "output_type": "stream",
     "text": [
      ">> CPI decomposition for Spain processing\n"
     ]
    },
    {
     "name": "stderr",
     "output_type": "stream",
     "text": [
      "100%|#################################################################################################################| 94/94 [00:02<00:00, 44.89it/s]\n"
     ]
    },
    {
     "name": "stdout",
     "output_type": "stream",
     "text": [
      ">> CPI decomposition for Germany processing\n"
     ]
    },
    {
     "name": "stderr",
     "output_type": "stream",
     "text": [
      "100%|#################################################################################################################| 94/94 [00:02<00:00, 31.73it/s]\n"
     ]
    }
   ],
   "source": [
    "cpi_fr = CPIlabel(meta=meta_fr)\n",
    "cpi_eu = CPIlabel(meta=meta_eu)\n",
    "cpi_sp = CPIlabel(meta=meta_sp)\n",
    "cpi_ger = CPIlabel(meta=meta_ger)"
   ]
  },
  {
   "cell_type": "code",
   "execution_count": null,
   "metadata": {},
   "outputs": [],
   "source": []
  }
 ],
 "metadata": {
  "kernelspec": {
   "display_name": "mlpyth",
   "language": "python",
   "name": "mlpyth"
  },
  "language_info": {
   "codemirror_mode": {
    "name": "ipython",
    "version": 3
   },
   "file_extension": ".py",
   "mimetype": "text/x-python",
   "name": "python",
   "nbconvert_exporter": "python",
   "pygments_lexer": "ipython3",
   "version": "3.10.12"
  }
 },
 "nbformat": 4,
 "nbformat_minor": 4
}
